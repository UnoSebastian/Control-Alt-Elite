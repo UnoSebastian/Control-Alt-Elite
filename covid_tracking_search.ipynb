{
 "cells": [
  {
   "cell_type": "code",
   "execution_count": 1,
   "metadata": {},
   "outputs": [],
   "source": [
    "import requests\n",
    "import certifi\n",
    "import json\n",
    "import pandas as pd"
   ]
  },
  {
   "cell_type": "code",
   "execution_count": 2,
   "metadata": {},
   "outputs": [],
   "source": [
    "# Save into folder\n",
    "def save_info(base_url, path):\n",
    "    url = base_url + path\n",
    "    data = requests.get(url).json()\n",
    "    df = pd.json_normalize(data)\n",
    "    if ('.json' in path):\n",
    "        path = path.replace('.json', '')\n",
    "    df.to_csv ('Data/' + path.replace('/','_') + '.csv', index = False, header=True)"
   ]
  },
  {
   "cell_type": "code",
   "execution_count": 5,
   "metadata": {},
   "outputs": [
    {
     "name": "stdout",
     "output_type": "stream",
     "text": [
      "Done 1 of 11 https://api.covidtracking.com/v1/us/daily.json\n",
      "Done 2 of 11 https://api.covidtracking.com/v1/us/current.json\n",
      "Done 3 of 11 https://api.covidtracking.com/v1/states/info.json\n",
      "Done 4 of 11 https://api.covidtracking.com/v1/states/ga/info.json\n",
      "Done 5 of 11 https://api.covidtracking.com/v1/states/ca/info.json\n",
      "Done 6 of 11 https://api.covidtracking.com/v1/states/daily.json\n",
      "Done 7 of 11 https://api.covidtracking.com/v1/states/current.json\n",
      "Done 8 of 11 https://api.covidtracking.com/v1/states/ga/current.json\n",
      "Done 9 of 11 https://api.covidtracking.com/v1/states/ca/current.json\n",
      "Done 10 of 11 https://api.covidtracking.com/v1/states/ga/daily.json\n",
      "Done 11 of 11 https://api.covidtracking.com/v1/states/ca/daily.json\n"
     ]
    }
   ],
   "source": [
    "searches = [\n",
    "    'v1/us/daily.json', \n",
    "    'v1/us/current.json',\n",
    "    'v1/states/info.json',\n",
    "    'v1/states/ga/info.json',\n",
    "    'v1/states/ca/info.json',\n",
    "    'v1/states/daily.json',\n",
    "    'v1/states/current.json',\n",
    "    'v1/states/ga/current.json',\n",
    "    'v1/states/ca/current.json',\n",
    "    'v1/states/ga/daily.json',\n",
    "    'v1/states/ca/daily.json'\n",
    "]\n",
    "\n",
    "for search in searches:\n",
    "    base_url = 'https://api.covidtracking.com/'\n",
    "    try:\n",
    "        save_info(base_url, search)\n",
    "    except:\n",
    "        print('could not download ' + base_url + search)\n",
    "    print(f'Done {searches.index(search) + 1} of {len(searches)} {base_url + search}')\n"
   ]
  },
  {
   "cell_type": "code",
   "execution_count": null,
   "metadata": {},
   "outputs": [],
   "source": []
  }
 ],
 "metadata": {
  "kernelspec": {
   "display_name": "Python 3",
   "language": "python",
   "name": "python3"
  },
  "language_info": {
   "codemirror_mode": {
    "name": "ipython",
    "version": 3
   },
   "file_extension": ".py",
   "mimetype": "text/x-python",
   "name": "python",
   "nbconvert_exporter": "python",
   "pygments_lexer": "ipython3",
   "version": "3.8.5"
  }
 },
 "nbformat": 4,
 "nbformat_minor": 4
}
