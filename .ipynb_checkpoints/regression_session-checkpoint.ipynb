{
 "cells": [
  {
   "cell_type": "code",
   "execution_count": 1,
   "id": "exotic-scratch",
   "metadata": {},
   "outputs": [],
   "source": [
    "import pandas as pd \n",
    "import matplotlib.pyplot as plt\n",
    "from modules import analysis\n",
    "import datetime as dt"
   ]
  },
  {
   "cell_type": "code",
   "execution_count": 2,
   "id": "handmade-tattoo",
   "metadata": {},
   "outputs": [
    {
     "name": "stdout",
     "output_type": "stream",
     "text": [
      "loading data from date 2021-02-09 : file 20210209_cmt.xlsx...\n"
     ]
    },
    {
     "data": {
      "text/html": [
       "<div>\n",
       "<style scoped>\n",
       "    .dataframe tbody tr th:only-of-type {\n",
       "        vertical-align: middle;\n",
       "    }\n",
       "\n",
       "    .dataframe tbody tr th {\n",
       "        vertical-align: top;\n",
       "    }\n",
       "\n",
       "    .dataframe thead th {\n",
       "        text-align: right;\n",
       "    }\n",
       "</style>\n",
       "<table border=\"1\" class=\"dataframe\">\n",
       "  <thead>\n",
       "    <tr style=\"text-align: right;\">\n",
       "      <th></th>\n",
       "      <th>date</th>\n",
       "      <th>state</th>\n",
       "      <th>money recieved</th>\n",
       "      <th>positive</th>\n",
       "      <th>negative</th>\n",
       "      <th>onVentilatorCumulative</th>\n",
       "      <th>recovered</th>\n",
       "      <th>death</th>\n",
       "      <th>hospitalized</th>\n",
       "      <th>positiveTests</th>\n",
       "      <th>timestamp</th>\n",
       "    </tr>\n",
       "  </thead>\n",
       "  <tbody>\n",
       "    <tr>\n",
       "      <th>0</th>\n",
       "      <td>2020-02-14</td>\n",
       "      <td>New Jersey</td>\n",
       "      <td>1.523121e+08</td>\n",
       "      <td>0.0</td>\n",
       "      <td>0.0</td>\n",
       "      <td>0.0</td>\n",
       "      <td>0.0</td>\n",
       "      <td>0.0</td>\n",
       "      <td>0.0</td>\n",
       "      <td>0</td>\n",
       "      <td>1581638400</td>\n",
       "    </tr>\n",
       "    <tr>\n",
       "      <th>1</th>\n",
       "      <td>2020-03-06</td>\n",
       "      <td>Massachusetts</td>\n",
       "      <td>3.804038e+07</td>\n",
       "      <td>0.0</td>\n",
       "      <td>0.0</td>\n",
       "      <td>0.0</td>\n",
       "      <td>0.0</td>\n",
       "      <td>0.0</td>\n",
       "      <td>0.0</td>\n",
       "      <td>33</td>\n",
       "      <td>1583452800</td>\n",
       "    </tr>\n",
       "    <tr>\n",
       "      <th>2</th>\n",
       "      <td>2020-03-11</td>\n",
       "      <td>Minnesota</td>\n",
       "      <td>9.885580e+05</td>\n",
       "      <td>21.0</td>\n",
       "      <td>217.0</td>\n",
       "      <td>0.0</td>\n",
       "      <td>0.0</td>\n",
       "      <td>0.0</td>\n",
       "      <td>0.0</td>\n",
       "      <td>0</td>\n",
       "      <td>1583884800</td>\n",
       "    </tr>\n",
       "    <tr>\n",
       "      <th>3</th>\n",
       "      <td>2020-03-12</td>\n",
       "      <td>Maryland</td>\n",
       "      <td>5.981910e+05</td>\n",
       "      <td>12.0</td>\n",
       "      <td>94.0</td>\n",
       "      <td>0.0</td>\n",
       "      <td>0.0</td>\n",
       "      <td>0.0</td>\n",
       "      <td>0.0</td>\n",
       "      <td>0</td>\n",
       "      <td>1583971200</td>\n",
       "    </tr>\n",
       "    <tr>\n",
       "      <th>4</th>\n",
       "      <td>2020-03-13</td>\n",
       "      <td>California</td>\n",
       "      <td>5.613300e+05</td>\n",
       "      <td>202.0</td>\n",
       "      <td>916.0</td>\n",
       "      <td>0.0</td>\n",
       "      <td>0.0</td>\n",
       "      <td>4.0</td>\n",
       "      <td>0.0</td>\n",
       "      <td>0</td>\n",
       "      <td>1584057600</td>\n",
       "    </tr>\n",
       "    <tr>\n",
       "      <th>...</th>\n",
       "      <td>...</td>\n",
       "      <td>...</td>\n",
       "      <td>...</td>\n",
       "      <td>...</td>\n",
       "      <td>...</td>\n",
       "      <td>...</td>\n",
       "      <td>...</td>\n",
       "      <td>...</td>\n",
       "      <td>...</td>\n",
       "      <td>...</td>\n",
       "      <td>...</td>\n",
       "    </tr>\n",
       "    <tr>\n",
       "      <th>1669</th>\n",
       "      <td>2021-02-09</td>\n",
       "      <td>Virginia</td>\n",
       "      <td>1.115687e+09</td>\n",
       "      <td>534116.0</td>\n",
       "      <td>0.0</td>\n",
       "      <td>0.0</td>\n",
       "      <td>42199.0</td>\n",
       "      <td>6898.0</td>\n",
       "      <td>22339.0</td>\n",
       "      <td>656736</td>\n",
       "      <td>1612828800</td>\n",
       "    </tr>\n",
       "    <tr>\n",
       "      <th>1670</th>\n",
       "      <td>2021-02-09</td>\n",
       "      <td>Washington</td>\n",
       "      <td>1.148048e+09</td>\n",
       "      <td>323214.0</td>\n",
       "      <td>4464543.0</td>\n",
       "      <td>0.0</td>\n",
       "      <td>0.0</td>\n",
       "      <td>4451.0</td>\n",
       "      <td>18480.0</td>\n",
       "      <td>307163</td>\n",
       "      <td>1612828800</td>\n",
       "    </tr>\n",
       "    <tr>\n",
       "      <th>1671</th>\n",
       "      <td>2021-02-09</td>\n",
       "      <td>West Virginia</td>\n",
       "      <td>4.588345e+08</td>\n",
       "      <td>125522.0</td>\n",
       "      <td>1906759.0</td>\n",
       "      <td>0.0</td>\n",
       "      <td>108616.0</td>\n",
       "      <td>2150.0</td>\n",
       "      <td>0.0</td>\n",
       "      <td>0</td>\n",
       "      <td>1612828800</td>\n",
       "    </tr>\n",
       "    <tr>\n",
       "      <th>1672</th>\n",
       "      <td>2021-02-09</td>\n",
       "      <td>Wisconsin</td>\n",
       "      <td>8.926249e+08</td>\n",
       "      <td>602256.0</td>\n",
       "      <td>2541584.0</td>\n",
       "      <td>0.0</td>\n",
       "      <td>531343.0</td>\n",
       "      <td>6663.0</td>\n",
       "      <td>25021.0</td>\n",
       "      <td>0</td>\n",
       "      <td>1612828800</td>\n",
       "    </tr>\n",
       "    <tr>\n",
       "      <th>1673</th>\n",
       "      <td>2021-02-09</td>\n",
       "      <td>Wyoming</td>\n",
       "      <td>1.044024e+08</td>\n",
       "      <td>52830.0</td>\n",
       "      <td>173985.0</td>\n",
       "      <td>0.0</td>\n",
       "      <td>51386.0</td>\n",
       "      <td>647.0</td>\n",
       "      <td>1306.0</td>\n",
       "      <td>47688</td>\n",
       "      <td>1612828800</td>\n",
       "    </tr>\n",
       "  </tbody>\n",
       "</table>\n",
       "<p>1674 rows × 11 columns</p>\n",
       "</div>"
      ],
      "text/plain": [
       "           date          state  money recieved  positive   negative  \\\n",
       "0    2020-02-14     New Jersey    1.523121e+08       0.0        0.0   \n",
       "1    2020-03-06  Massachusetts    3.804038e+07       0.0        0.0   \n",
       "2    2020-03-11      Minnesota    9.885580e+05      21.0      217.0   \n",
       "3    2020-03-12       Maryland    5.981910e+05      12.0       94.0   \n",
       "4    2020-03-13     California    5.613300e+05     202.0      916.0   \n",
       "...         ...            ...             ...       ...        ...   \n",
       "1669 2021-02-09       Virginia    1.115687e+09  534116.0        0.0   \n",
       "1670 2021-02-09     Washington    1.148048e+09  323214.0  4464543.0   \n",
       "1671 2021-02-09  West Virginia    4.588345e+08  125522.0  1906759.0   \n",
       "1672 2021-02-09      Wisconsin    8.926249e+08  602256.0  2541584.0   \n",
       "1673 2021-02-09        Wyoming    1.044024e+08   52830.0   173985.0   \n",
       "\n",
       "      onVentilatorCumulative  recovered   death  hospitalized  positiveTests  \\\n",
       "0                        0.0        0.0     0.0           0.0              0   \n",
       "1                        0.0        0.0     0.0           0.0             33   \n",
       "2                        0.0        0.0     0.0           0.0              0   \n",
       "3                        0.0        0.0     0.0           0.0              0   \n",
       "4                        0.0        0.0     4.0           0.0              0   \n",
       "...                      ...        ...     ...           ...            ...   \n",
       "1669                     0.0    42199.0  6898.0       22339.0         656736   \n",
       "1670                     0.0        0.0  4451.0       18480.0         307163   \n",
       "1671                     0.0   108616.0  2150.0           0.0              0   \n",
       "1672                     0.0   531343.0  6663.0       25021.0              0   \n",
       "1673                     0.0    51386.0   647.0        1306.0          47688   \n",
       "\n",
       "       timestamp  \n",
       "0     1581638400  \n",
       "1     1583452800  \n",
       "2     1583884800  \n",
       "3     1583971200  \n",
       "4     1584057600  \n",
       "...          ...  \n",
       "1669  1612828800  \n",
       "1670  1612828800  \n",
       "1671  1612828800  \n",
       "1672  1612828800  \n",
       "1673  1612828800  \n",
       "\n",
       "[1674 rows x 11 columns]"
      ]
     },
     "execution_count": 2,
     "metadata": {},
     "output_type": "execute_result"
    }
   ],
   "source": [
    "analysis_frame = analysis.get()\n",
    "analysis_frame"
   ]
  },
  {
   "cell_type": "code",
   "execution_count": 5,
   "id": "bottom-concrete",
   "metadata": {},
   "outputs": [
    {
     "data": {
      "image/png": "[encoded data removed]",
      "text/plain": [
       "<Figure size 432x288 with 1 Axes>"
      ]
     },
     "metadata": {
      "needs_background": "light"
     },
     "output_type": "display_data"
    }
   ],
   "source": [
    "analysis.regression_plot(analysis_frame, 'date_rgression', ['Federal Money Distribured by Date', 'Date', 'Amount of $ Recieved'], 'timestamp', 'money recieved', 'black', 'red', 'red', analysis_frame['timestamp'].median(), analysis_frame['money recieved'].max())"
   ]
  },
  {
   "cell_type": "code",
   "execution_count": 7,
   "id": "collect-equilibrium",
   "metadata": {},
   "outputs": [
    {
     "data": {
      "image/png": "[encoded data removed]",
      "text/plain": [
       "<Figure size 432x288 with 1 Axes>"
      ]
     },
     "metadata": {
      "needs_background": "light"
     },
     "output_type": "display_data"
    }
   ],
   "source": [
    "analysis.regression_plot(analysis_frame, 'date_rgression', ['Covid Deaths by Date', 'Date', 'Covid Deaths'], 'timestamp', 'death', 'black', 'red', 'red', analysis_frame['timestamp'].median(), analysis_frame['death'].max())"
   ]
  },
  {
   "cell_type": "code",
   "execution_count": 8,
   "id": "flying-signal",
   "metadata": {},
   "outputs": [
    {
     "data": {
      "image/png": "[encoded data removed]",
      "text/plain": [
       "<Figure size 432x288 with 1 Axes>"
      ]
     },
     "metadata": {
      "needs_background": "light"
     },
     "output_type": "display_data"
    }
   ],
   "source": [
    "analysis.regression_plot(analysis_frame, 'date_regression', ['Positive Cases by Date', 'Date', 'Positive Tests'], 'timestamp', 'positive', 'black', 'red', 'red', analysis_frame['timestamp'].median(), analysis_frame['positive'].max())"
   ]
  },
  {
   "cell_type": "code",
   "execution_count": null,
   "id": "finished-failure",
   "metadata": {},
   "outputs": [],
   "source": []
  }
 ],
 "metadata": {
  "kernelspec": {
   "display_name": "Python 3",
   "language": "python",
   "name": "python3"
  },
  "language_info": {
   "codemirror_mode": {
    "name": "ipython",
    "version": 3
   },
   "file_extension": ".py",
   "mimetype": "text/x-python",
   "name": "python",
   "nbconvert_exporter": "python",
   "pygments_lexer": "ipython3",
   "version": "3.8.5"
  }
 },
 "nbformat": 4,
 "nbformat_minor": 5
}
