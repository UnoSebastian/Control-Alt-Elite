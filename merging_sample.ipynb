{
 "cells": [
  {
   "cell_type": "code",
   "execution_count": 1,
   "metadata": {},
   "outputs": [],
   "source": [
    "import pandas as pd\n",
    "import datetime as dt\n",
    "from modules import crfb\n",
    "from modules import covid"
   ]
  },
  {
   "cell_type": "code",
   "execution_count": 2,
   "metadata": {},
   "outputs": [
    {
     "output_type": "stream",
     "name": "stdout",
     "text": [
      "loading data from date 2021-02-09 : file 20210209_cmt.xlsx...\n"
     ]
    },
    {
     "output_type": "execute_result",
     "data": {
      "text/plain": [
       "     Recipient State  Amount Committed/Disbursed       Date  Recipient Type  \\\n",
       "0            Alabama                4.243599e+09 2020-04-15       Household   \n",
       "1             Alaska                6.098270e+08 2020-04-15       Household   \n",
       "2            Arizona                5.918266e+09 2020-04-15       Household   \n",
       "3           Arkansas                2.650191e+09 2020-04-15       Household   \n",
       "4         California                2.960029e+10 2020-04-15       Household   \n",
       "...              ...                         ...        ...             ...   \n",
       "7303      California                3.325000e+07 2020-12-31  Small Business   \n",
       "7304          Oregon                1.425000e+07 2020-12-31  Small Business   \n",
       "7305      California                1.900000e+06 2020-12-31  Small Business   \n",
       "7306        Virginia                1.779091e+07 2020-12-31  Small Business   \n",
       "7307            Ohio                9.500000e+06 2020-12-31  Small Business   \n",
       "\n",
       "     Legislation           Agency  \n",
       "0      CARES Act              IRS  \n",
       "1      CARES Act              IRS  \n",
       "2      CARES Act              IRS  \n",
       "3      CARES Act              IRS  \n",
       "4      CARES Act              IRS  \n",
       "...          ...              ...  \n",
       "7303   CARES Act  Federal Reserve  \n",
       "7304   CARES Act  Federal Reserve  \n",
       "7305   CARES Act  Federal Reserve  \n",
       "7306   CARES Act  Federal Reserve  \n",
       "7307   CARES Act  Federal Reserve  \n",
       "\n",
       "[7308 rows x 6 columns]"
      ],
      "text/html": "<div>\n<style scoped>\n    .dataframe tbody tr th:only-of-type {\n        vertical-align: middle;\n    }\n\n    .dataframe tbody tr th {\n        vertical-align: top;\n    }\n\n    .dataframe thead th {\n        text-align: right;\n    }\n</style>\n<table border=\"1\" class=\"dataframe\">\n  <thead>\n    <tr style=\"text-align: right;\">\n      <th></th>\n      <th>Recipient State</th>\n      <th>Amount Committed/Disbursed</th>\n      <th>Date</th>\n      <th>Recipient Type</th>\n      <th>Legislation</th>\n      <th>Agency</th>\n    </tr>\n  </thead>\n  <tbody>\n    <tr>\n      <th>0</th>\n      <td>Alabama</td>\n      <td>4.243599e+09</td>\n      <td>2020-04-15</td>\n      <td>Household</td>\n      <td>CARES Act</td>\n      <td>IRS</td>\n    </tr>\n    <tr>\n      <th>1</th>\n      <td>Alaska</td>\n      <td>6.098270e+08</td>\n      <td>2020-04-15</td>\n      <td>Household</td>\n      <td>CARES Act</td>\n      <td>IRS</td>\n    </tr>\n    <tr>\n      <th>2</th>\n      <td>Arizona</td>\n      <td>5.918266e+09</td>\n      <td>2020-04-15</td>\n      <td>Household</td>\n      <td>CARES Act</td>\n      <td>IRS</td>\n    </tr>\n    <tr>\n      <th>3</th>\n      <td>Arkansas</td>\n      <td>2.650191e+09</td>\n      <td>2020-04-15</td>\n      <td>Household</td>\n      <td>CARES Act</td>\n      <td>IRS</td>\n    </tr>\n    <tr>\n      <th>4</th>\n      <td>California</td>\n      <td>2.960029e+10</td>\n      <td>2020-04-15</td>\n      <td>Household</td>\n      <td>CARES Act</td>\n      <td>IRS</td>\n    </tr>\n    <tr>\n      <th>...</th>\n      <td>...</td>\n      <td>...</td>\n      <td>...</td>\n      <td>...</td>\n      <td>...</td>\n      <td>...</td>\n    </tr>\n    <tr>\n      <th>7303</th>\n      <td>California</td>\n      <td>3.325000e+07</td>\n      <td>2020-12-31</td>\n      <td>Small Business</td>\n      <td>CARES Act</td>\n      <td>Federal Reserve</td>\n    </tr>\n    <tr>\n      <th>7304</th>\n      <td>Oregon</td>\n      <td>1.425000e+07</td>\n      <td>2020-12-31</td>\n      <td>Small Business</td>\n      <td>CARES Act</td>\n      <td>Federal Reserve</td>\n    </tr>\n    <tr>\n      <th>7305</th>\n      <td>California</td>\n      <td>1.900000e+06</td>\n      <td>2020-12-31</td>\n      <td>Small Business</td>\n      <td>CARES Act</td>\n      <td>Federal Reserve</td>\n    </tr>\n    <tr>\n      <th>7306</th>\n      <td>Virginia</td>\n      <td>1.779091e+07</td>\n      <td>2020-12-31</td>\n      <td>Small Business</td>\n      <td>CARES Act</td>\n      <td>Federal Reserve</td>\n    </tr>\n    <tr>\n      <th>7307</th>\n      <td>Ohio</td>\n      <td>9.500000e+06</td>\n      <td>2020-12-31</td>\n      <td>Small Business</td>\n      <td>CARES Act</td>\n      <td>Federal Reserve</td>\n    </tr>\n  </tbody>\n</table>\n<p>7308 rows × 6 columns</p>\n</div>"
     },
     "metadata": {},
     "execution_count": 2
    }
   ],
   "source": [
    "# Get the most recent dataset that we have on file\n",
    "crfb_df = crfb.get_data_single()\n",
    "# Download all the datasets we have, using the column 'Date CRFB Downloaded'\n",
    "#crfb_df = crfb.get_data_all()\n",
    "crfb_df"
   ]
  },
  {
   "cell_type": "code",
   "execution_count": 3,
   "metadata": {},
   "outputs": [
    {
     "output_type": "execute_result",
     "data": {
      "text/plain": [
       "            date       state   positive   negative  onVentilatorCumulative  \\\n",
       "0     2021-02-09      Alaska    53809.0        0.0                     0.0   \n",
       "1     2021-02-09     Alabama   474666.0  1825185.0                  1463.0   \n",
       "2     2021-02-09    Arkansas   308848.0  2297201.0                  1464.0   \n",
       "3     2021-02-09     Arizona   787268.0  2834530.0                     0.0   \n",
       "4     2021-02-09  California  3354591.0        0.0                     0.0   \n",
       "...          ...         ...        ...        ...                     ...   \n",
       "17315 2020-01-17  Washington        0.0        0.0                     0.0   \n",
       "17316 2020-01-16  Washington        0.0        0.0                     0.0   \n",
       "17317 2020-01-15  Washington        0.0        0.0                     0.0   \n",
       "17318 2020-01-14  Washington        0.0        0.0                     0.0   \n",
       "17319 2020-01-13  Washington        0.0        0.0                     0.0   \n",
       "\n",
       "       recovered    death  hospitalized  positiveTests  \n",
       "0            0.0    280.0        1223.0          65100  \n",
       "1       252880.0   8579.0       43499.0              0  \n",
       "2       288774.0   5148.0       14174.0          74670  \n",
       "3       108965.0  14286.0       54967.0              0  \n",
       "4            0.0  44477.0           0.0              0  \n",
       "...          ...      ...           ...            ...  \n",
       "17315        0.0      0.0           0.0              0  \n",
       "17316        0.0      0.0           0.0              0  \n",
       "17317        0.0      0.0           0.0              0  \n",
       "17318        0.0      0.0           0.0              0  \n",
       "17319        0.0      0.0           0.0              0  \n",
       "\n",
       "[17320 rows x 9 columns]"
      ],
      "text/html": "<div>\n<style scoped>\n    .dataframe tbody tr th:only-of-type {\n        vertical-align: middle;\n    }\n\n    .dataframe tbody tr th {\n        vertical-align: top;\n    }\n\n    .dataframe thead th {\n        text-align: right;\n    }\n</style>\n<table border=\"1\" class=\"dataframe\">\n  <thead>\n    <tr style=\"text-align: right;\">\n      <th></th>\n      <th>date</th>\n      <th>state</th>\n      <th>positive</th>\n      <th>negative</th>\n      <th>onVentilatorCumulative</th>\n      <th>recovered</th>\n      <th>death</th>\n      <th>hospitalized</th>\n      <th>positiveTests</th>\n    </tr>\n  </thead>\n  <tbody>\n    <tr>\n      <th>0</th>\n      <td>2021-02-09</td>\n      <td>Alaska</td>\n      <td>53809.0</td>\n      <td>0.0</td>\n      <td>0.0</td>\n      <td>0.0</td>\n      <td>280.0</td>\n      <td>1223.0</td>\n      <td>65100</td>\n    </tr>\n    <tr>\n      <th>1</th>\n      <td>2021-02-09</td>\n      <td>Alabama</td>\n      <td>474666.0</td>\n      <td>1825185.0</td>\n      <td>1463.0</td>\n      <td>252880.0</td>\n      <td>8579.0</td>\n      <td>43499.0</td>\n      <td>0</td>\n    </tr>\n    <tr>\n      <th>2</th>\n      <td>2021-02-09</td>\n      <td>Arkansas</td>\n      <td>308848.0</td>\n      <td>2297201.0</td>\n      <td>1464.0</td>\n      <td>288774.0</td>\n      <td>5148.0</td>\n      <td>14174.0</td>\n      <td>74670</td>\n    </tr>\n    <tr>\n      <th>3</th>\n      <td>2021-02-09</td>\n      <td>Arizona</td>\n      <td>787268.0</td>\n      <td>2834530.0</td>\n      <td>0.0</td>\n      <td>108965.0</td>\n      <td>14286.0</td>\n      <td>54967.0</td>\n      <td>0</td>\n    </tr>\n    <tr>\n      <th>4</th>\n      <td>2021-02-09</td>\n      <td>California</td>\n      <td>3354591.0</td>\n      <td>0.0</td>\n      <td>0.0</td>\n      <td>0.0</td>\n      <td>44477.0</td>\n      <td>0.0</td>\n      <td>0</td>\n    </tr>\n    <tr>\n      <th>...</th>\n      <td>...</td>\n      <td>...</td>\n      <td>...</td>\n      <td>...</td>\n      <td>...</td>\n      <td>...</td>\n      <td>...</td>\n      <td>...</td>\n      <td>...</td>\n    </tr>\n    <tr>\n      <th>17315</th>\n      <td>2020-01-17</td>\n      <td>Washington</td>\n      <td>0.0</td>\n      <td>0.0</td>\n      <td>0.0</td>\n      <td>0.0</td>\n      <td>0.0</td>\n      <td>0.0</td>\n      <td>0</td>\n    </tr>\n    <tr>\n      <th>17316</th>\n      <td>2020-01-16</td>\n      <td>Washington</td>\n      <td>0.0</td>\n      <td>0.0</td>\n      <td>0.0</td>\n      <td>0.0</td>\n      <td>0.0</td>\n      <td>0.0</td>\n      <td>0</td>\n    </tr>\n    <tr>\n      <th>17317</th>\n      <td>2020-01-15</td>\n      <td>Washington</td>\n      <td>0.0</td>\n      <td>0.0</td>\n      <td>0.0</td>\n      <td>0.0</td>\n      <td>0.0</td>\n      <td>0.0</td>\n      <td>0</td>\n    </tr>\n    <tr>\n      <th>17318</th>\n      <td>2020-01-14</td>\n      <td>Washington</td>\n      <td>0.0</td>\n      <td>0.0</td>\n      <td>0.0</td>\n      <td>0.0</td>\n      <td>0.0</td>\n      <td>0.0</td>\n      <td>0</td>\n    </tr>\n    <tr>\n      <th>17319</th>\n      <td>2020-01-13</td>\n      <td>Washington</td>\n      <td>0.0</td>\n      <td>0.0</td>\n      <td>0.0</td>\n      <td>0.0</td>\n      <td>0.0</td>\n      <td>0.0</td>\n      <td>0</td>\n    </tr>\n  </tbody>\n</table>\n<p>17320 rows × 9 columns</p>\n</div>"
     },
     "metadata": {},
     "execution_count": 3
    }
   ],
   "source": [
    "# To filter by date use\n",
    "#covid_df = covid.get_data(date_min=dt.datetime(2020, 10, 23), date_max=dt.datetime(2021, 2, 9))\n",
    "# else, use this\n",
    "covid_df = covid.get_data()\n",
    "covid_df"
   ]
  },
  {
   "cell_type": "code",
   "execution_count": 40,
   "metadata": {},
   "outputs": [],
   "source": [
    "state_leg = crfb_df.groupby('Recipient State')['Legislation'].count().sort_values(ascending=False).to_frame()\n",
    "state_leg.reset_index(inplace=True)"
   ]
  },
  {
   "cell_type": "code",
   "execution_count": 41,
   "metadata": {},
   "outputs": [],
   "source": [
    "state_money = crfb_df.groupby('Recipient State')['Amount Committed/Disbursed'].sum().sort_values(ascending=False).to_frame()\n",
    "state_money.reset_index(inplace=True)\n",
    "state_money['Amount Committed/Disbursed'] = state_money.apply(lambda x: \"${0:,.2f}\".format(x['Amount Committed/Disbursed']), axis=1)\n",
    "state_money.rename(columns={\"Recipient State\": \"state\"}, inplace=True)"
   ]
  },
  {
   "cell_type": "code",
   "execution_count": 42,
   "metadata": {},
   "outputs": [],
   "source": [
    "state_death = covid_df.groupby('state')['death'].max().to_frame()\n",
    "state_death.reset_index(inplace=True)"
   ]
  },
  {
   "cell_type": "code",
   "execution_count": 43,
   "metadata": {},
   "outputs": [],
   "source": [
    "state_cases = covid_df.groupby('state')['positive'].max().to_frame()\n",
    "state_cases.reset_index(inplace=True)"
   ]
  },
  {
   "cell_type": "code",
   "execution_count": 46,
   "metadata": {},
   "outputs": [],
   "source": [
    "sample_state = pd.merge(state_cases,state_death,on='state')\n",
    "sample_state['Death %'] = round(sample_state['death']/sample_state['positive'] * 100,2)"
   ]
  },
  {
   "cell_type": "code",
   "execution_count": 56,
   "metadata": {},
   "outputs": [
    {
     "output_type": "execute_result",
     "data": {
      "text/plain": [
       "             state   positive    death  Death % Amount Committed/Disbursed\n",
       "0       New Jersey   728304.0  22103.0     3.03         $55,065,781,573.00\n",
       "1    Massachusetts   546896.0  15124.0     2.77         $45,919,622,915.00\n",
       "2      Connecticut   264608.0   7298.0     2.76         $18,889,945,792.00\n",
       "3     Pennsylvania   876913.0  22620.0     2.58         $72,126,939,806.00\n",
       "4         Michigan   623731.0  15925.0     2.55         $53,167,573,494.00\n",
       "5         New York  1487086.0  36481.0     2.45        $153,340,195,800.00\n",
       "6      Mississippi   282969.0   6342.0     2.24         $12,296,763,111.00\n",
       "7        Louisiana   414354.0   9162.0     2.21         $22,276,314,564.00\n",
       "8         Maryland   365529.0   7413.0     2.03         $30,594,832,680.00\n",
       "9       New Mexico   178280.0   3430.0     1.92          $8,003,573,514.00\n",
       "10        Illinois  1150170.0  21802.0     1.90         $83,197,277,904.00\n",
       "11            Iowa   272103.0   5145.0     1.89         $11,124,537,952.00\n",
       "12    Rhode Island   119434.0   2248.0     1.88          $5,544,224,860.00\n",
       "13         Indiana   641874.0  11942.0     1.86         $25,333,983,925.00\n",
       "14         Alabama   474666.0   8579.0     1.81         $16,513,685,521.00\n",
       "15         Arizona   787268.0  14286.0     1.81         $29,264,109,138.00\n",
       "16   West Virginia   125522.0   2150.0     1.71          $6,615,539,238.00\n",
       "17        Arkansas   308848.0   5148.0     1.67         $11,171,252,401.00\n",
       "18    South Dakota   109405.0   1809.0     1.65          $3,437,514,820.00\n",
       "19  South Carolina   470311.0   7693.0     1.64         $17,105,169,272.00\n",
       "20         Georgia   947416.0  15301.0     1.62         $54,071,134,915.00\n",
       "21         Florida  1758254.0  28526.0     1.62         $90,296,356,191.00\n",
       "22   New Hampshire    68918.0   1109.0     1.61          $5,686,209,249.00\n",
       "23          Nevada   285136.0   4559.0     1.60         $15,667,999,234.00\n",
       "24           Texas  2504556.0  39001.0     1.56        $137,388,193,193.00\n",
       "25          Hawaii    27226.0    418.0     1.54          $8,108,473,858.00\n",
       "26           Maine    41630.0    639.0     1.53          $6,316,990,648.00\n",
       "27        Missouri   467313.0   7149.0     1.53         $22,909,236,388.00\n",
       "28        Delaware    81210.0   1221.0     1.50          $4,551,353,408.00\n",
       "29    North Dakota    98184.0   1457.0     1.48          $3,340,193,175.00\n",
       "30          Kansas   282960.0   4197.0     1.48         $11,513,267,996.00\n",
       "31         Vermont    13105.0    186.0     1.42          $3,115,157,875.00\n",
       "32       Tennessee   747462.0  10631.0     1.42         $23,729,557,147.00\n",
       "33        Colorado   407210.0   5746.0     1.41         $22,463,154,398.00\n",
       "34      Washington   323214.0   4451.0     1.38         $33,355,892,621.00\n",
       "35          Oregon   147419.0   2024.0     1.37         $16,504,966,570.00\n",
       "36         Montana    96288.0   1315.0     1.37          $4,334,398,625.00\n",
       "37       Minnesota   469254.0   6308.0     1.34         $24,205,323,259.00\n",
       "38      California  3354591.0  44477.0     1.33        $215,406,324,105.00\n",
       "39        Virginia   534116.0   6898.0     1.29         $32,282,794,637.00\n",
       "40            Ohio   925350.0  11793.0     1.27         $46,397,109,340.00\n",
       "41  North Carolina   802065.0  10046.0     1.25         $36,710,911,091.00\n",
       "42         Wyoming    52830.0    647.0     1.22          $2,760,324,023.00\n",
       "43       Wisconsin   602256.0   6663.0     1.11         $19,535,447,982.00\n",
       "44        Kentucky   381121.0   4126.0     1.08         $16,367,582,363.00\n",
       "45           Idaho   165658.0   1776.0     1.07          $6,078,524,965.00\n",
       "46        Nebraska   194170.0   1978.0     1.02          $7,157,013,378.00\n",
       "47        Oklahoma   406064.0   3870.0     0.95         $19,312,076,914.00\n",
       "48          Alaska    53809.0    280.0     0.52          $3,578,611,551.00\n",
       "49            Utah   356040.0   1748.0     0.49         $16,625,769,065.00"
      ],
      "text/html": "<div>\n<style scoped>\n    .dataframe tbody tr th:only-of-type {\n        vertical-align: middle;\n    }\n\n    .dataframe tbody tr th {\n        vertical-align: top;\n    }\n\n    .dataframe thead th {\n        text-align: right;\n    }\n</style>\n<table border=\"1\" class=\"dataframe\">\n  <thead>\n    <tr style=\"text-align: right;\">\n      <th></th>\n      <th>state</th>\n      <th>positive</th>\n      <th>death</th>\n      <th>Death %</th>\n      <th>Amount Committed/Disbursed</th>\n    </tr>\n  </thead>\n  <tbody>\n    <tr>\n      <th>0</th>\n      <td>New Jersey</td>\n      <td>728304.0</td>\n      <td>22103.0</td>\n      <td>3.03</td>\n      <td>$55,065,781,573.00</td>\n    </tr>\n    <tr>\n      <th>1</th>\n      <td>Massachusetts</td>\n      <td>546896.0</td>\n      <td>15124.0</td>\n      <td>2.77</td>\n      <td>$45,919,622,915.00</td>\n    </tr>\n    <tr>\n      <th>2</th>\n      <td>Connecticut</td>\n      <td>264608.0</td>\n      <td>7298.0</td>\n      <td>2.76</td>\n      <td>$18,889,945,792.00</td>\n    </tr>\n    <tr>\n      <th>3</th>\n      <td>Pennsylvania</td>\n      <td>876913.0</td>\n      <td>22620.0</td>\n      <td>2.58</td>\n      <td>$72,126,939,806.00</td>\n    </tr>\n    <tr>\n      <th>4</th>\n      <td>Michigan</td>\n      <td>623731.0</td>\n      <td>15925.0</td>\n      <td>2.55</td>\n      <td>$53,167,573,494.00</td>\n    </tr>\n    <tr>\n      <th>5</th>\n      <td>New York</td>\n      <td>1487086.0</td>\n      <td>36481.0</td>\n      <td>2.45</td>\n      <td>$153,340,195,800.00</td>\n    </tr>\n    <tr>\n      <th>6</th>\n      <td>Mississippi</td>\n      <td>282969.0</td>\n      <td>6342.0</td>\n      <td>2.24</td>\n      <td>$12,296,763,111.00</td>\n    </tr>\n    <tr>\n      <th>7</th>\n      <td>Louisiana</td>\n      <td>414354.0</td>\n      <td>9162.0</td>\n      <td>2.21</td>\n      <td>$22,276,314,564.00</td>\n    </tr>\n    <tr>\n      <th>8</th>\n      <td>Maryland</td>\n      <td>365529.0</td>\n      <td>7413.0</td>\n      <td>2.03</td>\n      <td>$30,594,832,680.00</td>\n    </tr>\n    <tr>\n      <th>9</th>\n      <td>New Mexico</td>\n      <td>178280.0</td>\n      <td>3430.0</td>\n      <td>1.92</td>\n      <td>$8,003,573,514.00</td>\n    </tr>\n    <tr>\n      <th>10</th>\n      <td>Illinois</td>\n      <td>1150170.0</td>\n      <td>21802.0</td>\n      <td>1.90</td>\n      <td>$83,197,277,904.00</td>\n    </tr>\n    <tr>\n      <th>11</th>\n      <td>Iowa</td>\n      <td>272103.0</td>\n      <td>5145.0</td>\n      <td>1.89</td>\n      <td>$11,124,537,952.00</td>\n    </tr>\n    <tr>\n      <th>12</th>\n      <td>Rhode Island</td>\n      <td>119434.0</td>\n      <td>2248.0</td>\n      <td>1.88</td>\n      <td>$5,544,224,860.00</td>\n    </tr>\n    <tr>\n      <th>13</th>\n      <td>Indiana</td>\n      <td>641874.0</td>\n      <td>11942.0</td>\n      <td>1.86</td>\n      <td>$25,333,983,925.00</td>\n    </tr>\n    <tr>\n      <th>14</th>\n      <td>Alabama</td>\n      <td>474666.0</td>\n      <td>8579.0</td>\n      <td>1.81</td>\n      <td>$16,513,685,521.00</td>\n    </tr>\n    <tr>\n      <th>15</th>\n      <td>Arizona</td>\n      <td>787268.0</td>\n      <td>14286.0</td>\n      <td>1.81</td>\n      <td>$29,264,109,138.00</td>\n    </tr>\n    <tr>\n      <th>16</th>\n      <td>West Virginia</td>\n      <td>125522.0</td>\n      <td>2150.0</td>\n      <td>1.71</td>\n      <td>$6,615,539,238.00</td>\n    </tr>\n    <tr>\n      <th>17</th>\n      <td>Arkansas</td>\n      <td>308848.0</td>\n      <td>5148.0</td>\n      <td>1.67</td>\n      <td>$11,171,252,401.00</td>\n    </tr>\n    <tr>\n      <th>18</th>\n      <td>South Dakota</td>\n      <td>109405.0</td>\n      <td>1809.0</td>\n      <td>1.65</td>\n      <td>$3,437,514,820.00</td>\n    </tr>\n    <tr>\n      <th>19</th>\n      <td>South Carolina</td>\n      <td>470311.0</td>\n      <td>7693.0</td>\n      <td>1.64</td>\n      <td>$17,105,169,272.00</td>\n    </tr>\n    <tr>\n      <th>20</th>\n      <td>Georgia</td>\n      <td>947416.0</td>\n      <td>15301.0</td>\n      <td>1.62</td>\n      <td>$54,071,134,915.00</td>\n    </tr>\n    <tr>\n      <th>21</th>\n      <td>Florida</td>\n      <td>1758254.0</td>\n      <td>28526.0</td>\n      <td>1.62</td>\n      <td>$90,296,356,191.00</td>\n    </tr>\n    <tr>\n      <th>22</th>\n      <td>New Hampshire</td>\n      <td>68918.0</td>\n      <td>1109.0</td>\n      <td>1.61</td>\n      <td>$5,686,209,249.00</td>\n    </tr>\n    <tr>\n      <th>23</th>\n      <td>Nevada</td>\n      <td>285136.0</td>\n      <td>4559.0</td>\n      <td>1.60</td>\n      <td>$15,667,999,234.00</td>\n    </tr>\n    <tr>\n      <th>24</th>\n      <td>Texas</td>\n      <td>2504556.0</td>\n      <td>39001.0</td>\n      <td>1.56</td>\n      <td>$137,388,193,193.00</td>\n    </tr>\n    <tr>\n      <th>25</th>\n      <td>Hawaii</td>\n      <td>27226.0</td>\n      <td>418.0</td>\n      <td>1.54</td>\n      <td>$8,108,473,858.00</td>\n    </tr>\n    <tr>\n      <th>26</th>\n      <td>Maine</td>\n      <td>41630.0</td>\n      <td>639.0</td>\n      <td>1.53</td>\n      <td>$6,316,990,648.00</td>\n    </tr>\n    <tr>\n      <th>27</th>\n      <td>Missouri</td>\n      <td>467313.0</td>\n      <td>7149.0</td>\n      <td>1.53</td>\n      <td>$22,909,236,388.00</td>\n    </tr>\n    <tr>\n      <th>28</th>\n      <td>Delaware</td>\n      <td>81210.0</td>\n      <td>1221.0</td>\n      <td>1.50</td>\n      <td>$4,551,353,408.00</td>\n    </tr>\n    <tr>\n      <th>29</th>\n      <td>North Dakota</td>\n      <td>98184.0</td>\n      <td>1457.0</td>\n      <td>1.48</td>\n      <td>$3,340,193,175.00</td>\n    </tr>\n    <tr>\n      <th>30</th>\n      <td>Kansas</td>\n      <td>282960.0</td>\n      <td>4197.0</td>\n      <td>1.48</td>\n      <td>$11,513,267,996.00</td>\n    </tr>\n    <tr>\n      <th>31</th>\n      <td>Vermont</td>\n      <td>13105.0</td>\n      <td>186.0</td>\n      <td>1.42</td>\n      <td>$3,115,157,875.00</td>\n    </tr>\n    <tr>\n      <th>32</th>\n      <td>Tennessee</td>\n      <td>747462.0</td>\n      <td>10631.0</td>\n      <td>1.42</td>\n      <td>$23,729,557,147.00</td>\n    </tr>\n    <tr>\n      <th>33</th>\n      <td>Colorado</td>\n      <td>407210.0</td>\n      <td>5746.0</td>\n      <td>1.41</td>\n      <td>$22,463,154,398.00</td>\n    </tr>\n    <tr>\n      <th>34</th>\n      <td>Washington</td>\n      <td>323214.0</td>\n      <td>4451.0</td>\n      <td>1.38</td>\n      <td>$33,355,892,621.00</td>\n    </tr>\n    <tr>\n      <th>35</th>\n      <td>Oregon</td>\n      <td>147419.0</td>\n      <td>2024.0</td>\n      <td>1.37</td>\n      <td>$16,504,966,570.00</td>\n    </tr>\n    <tr>\n      <th>36</th>\n      <td>Montana</td>\n      <td>96288.0</td>\n      <td>1315.0</td>\n      <td>1.37</td>\n      <td>$4,334,398,625.00</td>\n    </tr>\n    <tr>\n      <th>37</th>\n      <td>Minnesota</td>\n      <td>469254.0</td>\n      <td>6308.0</td>\n      <td>1.34</td>\n      <td>$24,205,323,259.00</td>\n    </tr>\n    <tr>\n      <th>38</th>\n      <td>California</td>\n      <td>3354591.0</td>\n      <td>44477.0</td>\n      <td>1.33</td>\n      <td>$215,406,324,105.00</td>\n    </tr>\n    <tr>\n      <th>39</th>\n      <td>Virginia</td>\n      <td>534116.0</td>\n      <td>6898.0</td>\n      <td>1.29</td>\n      <td>$32,282,794,637.00</td>\n    </tr>\n    <tr>\n      <th>40</th>\n      <td>Ohio</td>\n      <td>925350.0</td>\n      <td>11793.0</td>\n      <td>1.27</td>\n      <td>$46,397,109,340.00</td>\n    </tr>\n    <tr>\n      <th>41</th>\n      <td>North Carolina</td>\n      <td>802065.0</td>\n      <td>10046.0</td>\n      <td>1.25</td>\n      <td>$36,710,911,091.00</td>\n    </tr>\n    <tr>\n      <th>42</th>\n      <td>Wyoming</td>\n      <td>52830.0</td>\n      <td>647.0</td>\n      <td>1.22</td>\n      <td>$2,760,324,023.00</td>\n    </tr>\n    <tr>\n      <th>43</th>\n      <td>Wisconsin</td>\n      <td>602256.0</td>\n      <td>6663.0</td>\n      <td>1.11</td>\n      <td>$19,535,447,982.00</td>\n    </tr>\n    <tr>\n      <th>44</th>\n      <td>Kentucky</td>\n      <td>381121.0</td>\n      <td>4126.0</td>\n      <td>1.08</td>\n      <td>$16,367,582,363.00</td>\n    </tr>\n    <tr>\n      <th>45</th>\n      <td>Idaho</td>\n      <td>165658.0</td>\n      <td>1776.0</td>\n      <td>1.07</td>\n      <td>$6,078,524,965.00</td>\n    </tr>\n    <tr>\n      <th>46</th>\n      <td>Nebraska</td>\n      <td>194170.0</td>\n      <td>1978.0</td>\n      <td>1.02</td>\n      <td>$7,157,013,378.00</td>\n    </tr>\n    <tr>\n      <th>47</th>\n      <td>Oklahoma</td>\n      <td>406064.0</td>\n      <td>3870.0</td>\n      <td>0.95</td>\n      <td>$19,312,076,914.00</td>\n    </tr>\n    <tr>\n      <th>48</th>\n      <td>Alaska</td>\n      <td>53809.0</td>\n      <td>280.0</td>\n      <td>0.52</td>\n      <td>$3,578,611,551.00</td>\n    </tr>\n    <tr>\n      <th>49</th>\n      <td>Utah</td>\n      <td>356040.0</td>\n      <td>1748.0</td>\n      <td>0.49</td>\n      <td>$16,625,769,065.00</td>\n    </tr>\n  </tbody>\n</table>\n</div>"
     },
     "metadata": {},
     "execution_count": 56
    }
   ],
   "source": [
    "master_frame = pd.merge(sample_state,state_money,on='state',how='left').sort_values(by='Death %',ascending=False,axis=0).reset_index(drop=True)\n",
    "master_frame"
   ]
  },
  {
   "cell_type": "code",
   "execution_count": 10,
   "metadata": {},
   "outputs": [],
   "source": [
    "## day_change\n",
    "# day change per state per date. date, year, month, day, +positive +death +recovered +money recieved\n",
    "## week_change\n",
    "# week change per state, same values\n",
    "## month_change\n",
    "# month change per state, same values"
   ]
  }
 ],
 "metadata": {
  "kernelspec": {
   "name": "python3",
   "display_name": "Python 3.8.5 64-bit ('Data': conda)",
   "metadata": {
    "interpreter": {
     "hash": "b44ef7d18d858a636d436a104ebda010f329074d8b43c246cb23309195c5ccee"
    }
   }
  },
  "language_info": {
   "codemirror_mode": {
    "name": "ipython",
    "version": 3
   },
   "file_extension": ".py",
   "mimetype": "text/x-python",
   "name": "python",
   "nbconvert_exporter": "python",
   "pygments_lexer": "ipython3",
   "version": "3.8.5-final"
  }
 },
 "nbformat": 4,
 "nbformat_minor": 4
}