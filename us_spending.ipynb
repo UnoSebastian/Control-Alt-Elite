{
 "metadata": {
  "language_info": {
   "codemirror_mode": {
    "name": "ipython",
    "version": 3
   },
   "file_extension": ".py",
   "mimetype": "text/x-python",
   "name": "python",
   "nbconvert_exporter": "python",
   "pygments_lexer": "ipython3",
   "version": "3.8.5-final"
  },
  "orig_nbformat": 2,
  "kernelspec": {
   "name": "python3",
   "display_name": "Python 3.8.5 64-bit ('gt-data': conda)",
   "metadata": {
    "interpreter": {
     "hash": "954adf0ca424c8ffefc187cbe9b4b9b75550f54f0f6fe8036a6c4cefac05d1fa"
    }
   }
  }
 },
 "nbformat": 4,
 "nbformat_minor": 2,
 "cells": [
  {
   "cell_type": "code",
   "execution_count": 5,
   "metadata": {},
   "outputs": [],
   "source": [
    "# Dependencies \n",
    "# Save as CSV\n",
    "import pandas as pd\n",
    "import requests"
   ]
  },
  {
   "cell_type": "code",
   "execution_count": 6,
   "metadata": {},
   "outputs": [
    {
     "output_type": "execute_result",
     "data": {
      "text/plain": [
       "<Response [405]>"
      ]
     },
     "metadata": {},
     "execution_count": 6
    }
   ],
   "source": [
    "url = \"https://www.usaspending.gov\"\n",
    "endpoint = \"/api/v2/awards/funding/\"\n",
    "  {\n",
    "      \"filters\": {\n",
    "          \"keywords\": [\"Filter is required\"]\n",
    "      },\n",
    "      \"scope\": \"place_of_performance\",\n",
    "      \"geo_layer\": \"state\"\n",
    "  }\n",
    "x = requests.post()\n",
    "x"
   ]
  }
 ]
}